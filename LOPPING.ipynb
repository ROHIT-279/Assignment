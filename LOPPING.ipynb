{
 "cells": [
  {
   "cell_type": "code",
   "execution_count": 4,
   "id": "a0871e77-f8c3-4074-93de-5ada812c6a97",
   "metadata": {},
   "outputs": [],
   "source": [
    "D ={}"
   ]
  },
  {
   "cell_type": "code",
   "execution_count": 5,
   "id": "fea09442-dde6-4b20-b55e-5298c186eb2a",
   "metadata": {},
   "outputs": [
    {
     "data": {
      "text/plain": [
       "dict"
      ]
     },
     "execution_count": 5,
     "metadata": {},
     "output_type": "execute_result"
    }
   ],
   "source": [
    "type(D)"
   ]
  },
  {
   "cell_type": "code",
   "execution_count": 6,
   "id": "3b9d1a62-9224-44e3-a3d4-e4608045d551",
   "metadata": {},
   "outputs": [],
   "source": [
    "D1 = { 'KEY' : \"ROHIT\" }"
   ]
  },
  {
   "cell_type": "code",
   "execution_count": 2,
   "id": "6b14e448-253e-4f40-a6b4-ef5e69e080e1",
   "metadata": {},
   "outputs": [],
   "source": [
    "D2 = { 'name' : \"ROHIT\" , 'email' : \"XYZ23@gmail.com\", \"number\" : 35700121}"
   ]
  },
  {
   "cell_type": "code",
   "execution_count": 3,
   "id": "296f1d29-f398-4c06-b77a-9d5ff9b7bd04",
   "metadata": {},
   "outputs": [
    {
     "data": {
      "text/plain": [
       "{'name': 'ROHIT', 'email': 'XYZ23@gmail.com', 'number': 35700121}"
      ]
     },
     "execution_count": 3,
     "metadata": {},
     "output_type": "execute_result"
    }
   ],
   "source": []
  },
  {
   "cell_type": "code",
   "execution_count": 3,
   "id": "6cc9f5ae-c34b-4635-9f19-29a39a8aed76",
   "metadata": {},
   "outputs": [],
   "source": [
    "D3 ={ 234 : \"ROHIT\"}"
   ]
  },
  {
   "cell_type": "code",
   "execution_count": 4,
   "id": "5cea46f3-1bb0-42a0-81ff-fa4e08a8f2ff",
   "metadata": {},
   "outputs": [
    {
     "data": {
      "text/plain": [
       "'XYZ23@gmail.com'"
      ]
     },
     "execution_count": 4,
     "metadata": {},
     "output_type": "execute_result"
    }
   ],
   "source": [
    "D2['email']"
   ]
  },
  {
   "cell_type": "code",
   "execution_count": 13,
   "id": "9dadea63-a187-4f29-bf0a-17ce92922f54",
   "metadata": {},
   "outputs": [],
   "source": [
    "D4 = {'MANTRA' : \"HAREKRISHNA MHAMANTRA\" , 'PROTOCOLS' : [\"Continious japa\",\"SADHUSANGA\",\"NAM KIRTANA\",\"BIGRAHA SEVA\",\"BHOG NIBEDAN\"] ,'GETTING' : [\"MHAPRASADAM\",\"RADHAKRISHNA PREM\",\"BHAGWAT PRAPRI\",\"INFINITE HAPPINESS\"]}"
   ]
  },
  {
   "cell_type": "code",
   "execution_count": 14,
   "id": "a90eb424-b2df-4cfe-8c9a-b36ce6d14af9",
   "metadata": {},
   "outputs": [
    {
     "data": {
      "text/plain": [
       "{'MANTRA': 'HAREKRISHNA MHAMANTRA',\n",
       " 'PROTOCOLS': ['Continious japa',\n",
       "  'SADHUSANGA',\n",
       "  'NAM KIRTANA',\n",
       "  'BIGRAHA SEVA',\n",
       "  'BHOG NIBEDAN'],\n",
       " 'GETTING': ['MHAPRASADAM',\n",
       "  'RADHAKRISHNA PREM',\n",
       "  'BHAGWAT PRAPRI',\n",
       "  'INFINITE HAPPINESS']}"
      ]
     },
     "execution_count": 14,
     "metadata": {},
     "output_type": "execute_result"
    }
   ],
   "source": [
    "D4"
   ]
  },
  {
   "cell_type": "code",
   "execution_count": 15,
   "id": "fa4a30bc-9c8f-4f7e-b7cb-687105227a29",
   "metadata": {},
   "outputs": [
    {
     "data": {
      "text/plain": [
       "['Continious japa',\n",
       " 'SADHUSANGA',\n",
       " 'NAM KIRTANA',\n",
       " 'BIGRAHA SEVA',\n",
       " 'BHOG NIBEDAN']"
      ]
     },
     "execution_count": 15,
     "metadata": {},
     "output_type": "execute_result"
    }
   ],
   "source": [
    "D4['PROTOCOLS']"
   ]
  },
  {
   "cell_type": "code",
   "execution_count": 16,
   "id": "fbab7f8b-7c3b-42ff-a971-c7651b98c588",
   "metadata": {},
   "outputs": [
    {
     "data": {
      "text/plain": [
       "['MHAPRASADAM', 'RADHAKRISHNA PREM', 'BHAGWAT PRAPRI', 'INFINITE HAPPINESS']"
      ]
     },
     "execution_count": 16,
     "metadata": {},
     "output_type": "execute_result"
    }
   ],
   "source": [
    "D4['GETTING']"
   ]
  },
  {
   "cell_type": "code",
   "execution_count": 17,
   "id": "d718b872-f747-42d7-8110-04ebcedcfa90",
   "metadata": {},
   "outputs": [
    {
     "data": {
      "text/plain": [
       "'BHAGWAT PRAPRI'"
      ]
     },
     "execution_count": 17,
     "metadata": {},
     "output_type": "execute_result"
    }
   ],
   "source": [
    "D4['GETTING'][2]"
   ]
  },
  {
   "cell_type": "code",
   "execution_count": 9,
   "id": "8f7d9829-da47-4fd5-a0b8-e5bbfb27e7a6",
   "metadata": {},
   "outputs": [],
   "source": [
    "D6 = { \"number\" :[2,34,3,54,90] , \"assignment\" : (1,2,3,4,5,6) , \"launch_date\" : {28,12,14}, \"class_time\" :{\"wev_dev\" :8 ,\"DATASCIENCE\" :8}}"
   ]
  },
  {
   "cell_type": "code",
   "execution_count": 10,
   "id": "37277eb1-ece3-4505-83a8-5fa44089adbf",
   "metadata": {},
   "outputs": [
    {
     "data": {
      "text/plain": [
       "{'number': [2, 34, 3, 54, 90],\n",
       " 'assignment': (1, 2, 3, 4, 5, 6),\n",
       " 'launch_date': {12, 14, 28},\n",
       " 'class_time': {'wev_dev': 8, 'DATASCIENCE': 8}}"
      ]
     },
     "execution_count": 10,
     "metadata": {},
     "output_type": "execute_result"
    }
   ],
   "source": [
    "D6"
   ]
  },
  {
   "cell_type": "code",
   "execution_count": 8,
   "id": "05fbc82a-12c6-4586-81f5-6b39f2740af4",
   "metadata": {},
   "outputs": [
    {
     "data": {
      "text/plain": [
       "{12, 14, 28}"
      ]
     },
     "execution_count": 8,
     "metadata": {},
     "output_type": "execute_result"
    }
   ],
   "source": [
    "D6['launch_date']"
   ]
  },
  {
   "cell_type": "code",
   "execution_count": 11,
   "id": "2a3b2986-f5a6-4b9a-9c5c-01d343bc3a33",
   "metadata": {},
   "outputs": [
    {
     "data": {
      "text/plain": [
       "8"
      ]
     },
     "execution_count": 11,
     "metadata": {},
     "output_type": "execute_result"
    }
   ],
   "source": [
    "D6['class_time']['DATASCIENCE']"
   ]
  },
  {
   "cell_type": "code",
   "execution_count": 12,
   "id": "ae029bf6-91e2-4241-bc4a-46d14238781c",
   "metadata": {},
   "outputs": [],
   "source": [
    "D6['mentor'] = [\"SUDHANGSHU SIR\", \"KRISH NAYAK\" , \"ALAKH PANDAY\"]"
   ]
  },
  {
   "cell_type": "code",
   "execution_count": 13,
   "id": "24c85a1f-19d3-4432-b2e9-30959a6495b3",
   "metadata": {},
   "outputs": [
    {
     "data": {
      "text/plain": [
       "{'number': [2, 34, 3, 54, 90],\n",
       " 'assignment': (1, 2, 3, 4, 5, 6),\n",
       " 'launch_date': {12, 14, 28},\n",
       " 'class_time': {'wev_dev': 8, 'DATASCIENCE': 8},\n",
       " 'mentor': ['SUDHANGSHU SIR', 'KRISH NAYAK', 'ALAKH PANDAY']}"
      ]
     },
     "execution_count": 13,
     "metadata": {},
     "output_type": "execute_result"
    }
   ],
   "source": [
    "D6"
   ]
  },
  {
   "cell_type": "code",
   "execution_count": 14,
   "id": "c919e4fc-4610-4e39-839f-4397c8b35564",
   "metadata": {},
   "outputs": [],
   "source": [
    "del D6['number']"
   ]
  },
  {
   "cell_type": "code",
   "execution_count": 15,
   "id": "53c71536-7c87-4523-8f98-fac5812b66bf",
   "metadata": {},
   "outputs": [
    {
     "data": {
      "text/plain": [
       "{'assignment': (1, 2, 3, 4, 5, 6),\n",
       " 'launch_date': {12, 14, 28},\n",
       " 'class_time': {'wev_dev': 8, 'DATASCIENCE': 8},\n",
       " 'mentor': ['SUDHANGSHU SIR', 'KRISH NAYAK', 'ALAKH PANDAY']}"
      ]
     },
     "execution_count": 15,
     "metadata": {},
     "output_type": "execute_result"
    }
   ],
   "source": [
    "D6"
   ]
  },
  {
   "cell_type": "code",
   "execution_count": 17,
   "id": "42004e57-8488-41f3-aa3b-445a590bda3c",
   "metadata": {},
   "outputs": [
    {
     "data": {
      "text/plain": [
       "['assignment', 'launch_date', 'class_time', 'mentor']"
      ]
     },
     "execution_count": 17,
     "metadata": {},
     "output_type": "execute_result"
    }
   ],
   "source": [
    "list(D6.keys())"
   ]
  },
  {
   "cell_type": "code",
   "execution_count": 18,
   "id": "0a931b88-e42a-46b8-8394-5747a23322fb",
   "metadata": {},
   "outputs": [
    {
     "data": {
      "text/plain": [
       "[(1, 2, 3, 4, 5, 6),\n",
       " {12, 14, 28},\n",
       " {'wev_dev': 8, 'DATASCIENCE': 8},\n",
       " ['SUDHANGSHU SIR', 'KRISH NAYAK', 'ALAKH PANDAY']]"
      ]
     },
     "execution_count": 18,
     "metadata": {},
     "output_type": "execute_result"
    }
   ],
   "source": [
    "list(D6.values())"
   ]
  },
  {
   "cell_type": "code",
   "execution_count": 20,
   "id": "9b417115-d87e-4c6b-b188-4eb950bd0be2",
   "metadata": {},
   "outputs": [
    {
     "data": {
      "text/plain": [
       "[('assignment', (1, 2, 3, 4, 5, 6)),\n",
       " ('launch_date', {12, 14, 28}),\n",
       " ('class_time', {'wev_dev': 8, 'DATASCIENCE': 8}),\n",
       " ('mentor', ['SUDHANGSHU SIR', 'KRISH NAYAK', 'ALAKH PANDAY'])]"
      ]
     },
     "execution_count": 20,
     "metadata": {},
     "output_type": "execute_result"
    }
   ],
   "source": [
    "list(D6.items())"
   ]
  },
  {
   "cell_type": "code",
   "execution_count": 21,
   "id": "35ccbcc9-4617-490b-a7cf-6e908c65276b",
   "metadata": {},
   "outputs": [
    {
     "data": {
      "text/plain": [
       "(1, 2, 3, 4, 5, 6)"
      ]
     },
     "execution_count": 21,
     "metadata": {},
     "output_type": "execute_result"
    }
   ],
   "source": [
    "D6.pop('assignment')"
   ]
  },
  {
   "cell_type": "code",
   "execution_count": 22,
   "id": "65941400-7765-487c-a750-cedfd9ccc768",
   "metadata": {},
   "outputs": [
    {
     "data": {
      "text/plain": [
       "{'launch_date': {12, 14, 28},\n",
       " 'class_time': {'wev_dev': 8, 'DATASCIENCE': 8},\n",
       " 'mentor': ['SUDHANGSHU SIR', 'KRISH NAYAK', 'ALAKH PANDAY']}"
      ]
     },
     "execution_count": 22,
     "metadata": {},
     "output_type": "execute_result"
    }
   ],
   "source": [
    "D6"
   ]
  },
  {
   "cell_type": "code",
   "execution_count": 8,
   "id": "f3c8d19b-61df-42f1-bd32-acb3f842ed3e",
   "metadata": {},
   "outputs": [
    {
     "name": "stdin",
     "output_type": "stream",
     "text": [
      "ENTER YOUR MARKS : 45\n"
     ]
    },
    {
     "name": "stdout",
     "output_type": "stream",
     "text": [
      "you will be a part of A2 batch\n"
     ]
    }
   ],
   "source": [
    "marks = int(input(\"ENTER YOUR MARKS :\"))\n",
    "if marks >= 80 :\n",
    "    print(\"you will be a part of A0 batch\")\n",
    "elif marks >= 60 and marks < 80:\n",
    "    print(\"you will be a part of A1 batch\")\n",
    "elif marks >= 40 and marks <60 :\n",
    "    print(\"you will be a part of A2 batch\")\n",
    "else :\n",
    "    print(\"you will be a part of A3 batch\")\n",
    "    \n",
    "\n",
    "    \n",
    "    "
   ]
  },
  {
   "cell_type": "code",
   "execution_count": 9,
   "id": "45d18864-598a-4d9b-b644-94bcddd33da4",
   "metadata": {},
   "outputs": [
    {
     "data": {
      "text/plain": [
       "int"
      ]
     },
     "execution_count": 9,
     "metadata": {},
     "output_type": "execute_result"
    }
   ],
   "source": [
    "type(marks)"
   ]
  },
  {
   "cell_type": "code",
   "execution_count": 10,
   "id": "aca1d1ff-c097-402f-ad57-92cae3b7670c",
   "metadata": {},
   "outputs": [
    {
     "data": {
      "text/plain": [
       "45"
      ]
     },
     "execution_count": 10,
     "metadata": {},
     "output_type": "execute_result"
    }
   ],
   "source": [
    "marks"
   ]
  },
  {
   "cell_type": "code",
   "execution_count": 18,
   "id": "6bbbe1cd-885a-4935-a380-65344360e4e7",
   "metadata": {},
   "outputs": [
    {
     "name": "stdin",
     "output_type": "stream",
     "text": [
      "Enter price :  4000\n"
     ]
    },
    {
     "name": "stdout",
     "output_type": "stream",
     "text": [
      "I WILL  PURCHESE THE PRODUCT\n"
     ]
    }
   ],
   "source": [
    "Price = int(input(\"Enter price : \"))\n",
    "if Price > 1000:\n",
    "    print(\"I WILL  PURCHESE THE PRODUCT\")\n",
    "    if Price >5000:\n",
    "        print(\"IT'S TOO MUCH\")\n",
    "else :\n",
    "    print(\"I will not purchase\")\n",
    "    "
   ]
  },
  {
   "cell_type": "code",
   "execution_count": 10,
   "id": "8351b256-c653-49ec-9294-798432a0a04b",
   "metadata": {},
   "outputs": [],
   "source": [
    "I= [23,78,90,56,21,90,108,85,74]"
   ]
  },
  {
   "cell_type": "code",
   "execution_count": 12,
   "id": "0a51761b-2e20-4952-a968-e6c80b509765",
   "metadata": {},
   "outputs": [
    {
     "name": "stdout",
     "output_type": "stream",
     "text": [
      "24\n",
      "79\n",
      "91\n",
      "57\n",
      "22\n",
      "91\n",
      "109\n",
      "86\n",
      "75\n"
     ]
    },
    {
     "data": {
      "text/plain": [
       "[24, 79, 91, 57, 22, 91, 109, 86, 75]"
      ]
     },
     "execution_count": 12,
     "metadata": {},
     "output_type": "execute_result"
    }
   ],
   "source": [
    "L2 = []\n",
    "for k in I:\n",
    "    print(k+1)\n",
    "    L2.append(k+1)\n",
    "L2\n",
    "    \n",
    "    "
   ]
  },
  {
   "cell_type": "code",
   "execution_count": 13,
   "id": "b102d20c-3e2f-4f59-b854-6753d90a01fb",
   "metadata": {},
   "outputs": [
    {
     "data": {
      "text/plain": [
       "[23, 78, 90, 56, 21, 90, 108, 85, 74]"
      ]
     },
     "execution_count": 13,
     "metadata": {},
     "output_type": "execute_result"
    }
   ],
   "source": [
    "I"
   ]
  },
  {
   "cell_type": "code",
   "execution_count": 14,
   "id": "64f54297-245a-489d-a344-4f0824e216d7",
   "metadata": {},
   "outputs": [],
   "source": [
    "L1 = [ \"radha\" , \" krishna\", \"kishori\" , \"govinda\"]"
   ]
  },
  {
   "cell_type": "code",
   "execution_count": 15,
   "id": "d832a33a-3535-4641-88d2-39eb0fe982d2",
   "metadata": {},
   "outputs": [
    {
     "name": "stdout",
     "output_type": "stream",
     "text": [
      "radha\n",
      " krishna\n",
      "kishori\n",
      "govinda\n"
     ]
    }
   ],
   "source": [
    "for h in L1 :\n",
    "    print(h)"
   ]
  },
  {
   "cell_type": "code",
   "execution_count": 18,
   "id": "cba7e7fe-8459-4488-8b72-97e4ec6a8d74",
   "metadata": {},
   "outputs": [
    {
     "name": "stdout",
     "output_type": "stream",
     "text": [
      "radha\n",
      " krishna\n",
      "kishori\n",
      "govinda\n"
     ]
    }
   ],
   "source": [
    "L3 = []\n",
    "for h in L1 :\n",
    "    print(h)\n",
    "    L3.append(h.upper())"
   ]
  },
  {
   "cell_type": "code",
   "execution_count": 19,
   "id": "3413860b-f554-4461-b48b-9622bf519488",
   "metadata": {},
   "outputs": [
    {
     "data": {
      "text/plain": [
       "['RADHA', ' KRISHNA', 'KISHORI', 'GOVINDA']"
      ]
     },
     "execution_count": 19,
     "metadata": {},
     "output_type": "execute_result"
    }
   ],
   "source": [
    "L3"
   ]
  },
  {
   "cell_type": "code",
   "execution_count": 29,
   "id": "996be6ab-da29-49d9-bcce-38cbdf738b50",
   "metadata": {},
   "outputs": [],
   "source": [
    "P1 = [25 ,63,98,74]"
   ]
  },
  {
   "cell_type": "code",
   "execution_count": 31,
   "id": "fdd6a622-6740-4da8-9f6b-0dd4a488eb0d",
   "metadata": {},
   "outputs": [],
   "source": [
    "P1.append(L3)"
   ]
  },
  {
   "cell_type": "code",
   "execution_count": 32,
   "id": "3a6c89e4-6ee4-4f4e-8705-53f864b65bfd",
   "metadata": {},
   "outputs": [
    {
     "data": {
      "text/plain": [
       "[25, 63, 98, 74, ['RADHA', ' KRISHNA', 'KISHORI', 'GOVINDA']]"
      ]
     },
     "execution_count": 32,
     "metadata": {},
     "output_type": "execute_result"
    }
   ],
   "source": [
    "P1"
   ]
  },
  {
   "cell_type": "code",
   "execution_count": 47,
   "id": "5089c21f-b570-442d-bb80-0b20ce1bfc0c",
   "metadata": {},
   "outputs": [],
   "source": [
    "T =[78, 98,45,236,\"giridhari\",\"radikaballavam\",108,21,16,\"brajabihari\"]"
   ]
  },
  {
   "cell_type": "code",
   "execution_count": 48,
   "id": "724f2c1e-481e-4370-850d-a8d0548413ea",
   "metadata": {},
   "outputs": [],
   "source": [
    "T1 =[]\n",
    "T2 =[]\n",
    "for i in T:\n",
    "    if type(i) == int or type(i) == float :\n",
    "        T1.append(i)\n",
    "    else :\n",
    "        T2.append(i.upper())\n",
    "    "
   ]
  },
  {
   "cell_type": "code",
   "execution_count": 49,
   "id": "e86f19db-1328-4aa1-968d-24dd1ae1ee5f",
   "metadata": {},
   "outputs": [
    {
     "data": {
      "text/plain": [
       "[78, 98, 45, 236, 108, 21, 16]"
      ]
     },
     "execution_count": 49,
     "metadata": {},
     "output_type": "execute_result"
    }
   ],
   "source": [
    "T1"
   ]
  },
  {
   "cell_type": "code",
   "execution_count": 46,
   "id": "3e5c7a14-55cb-4b5d-b3b1-69a334d96afc",
   "metadata": {},
   "outputs": [
    {
     "data": {
      "text/plain": [
       "['GIRIDHARI', 'RADIKABALLAVAM', 'BRAJABIHARI']"
      ]
     },
     "execution_count": 46,
     "metadata": {},
     "output_type": "execute_result"
    }
   ],
   "source": [
    "T2"
   ]
  },
  {
   "cell_type": "code",
   "execution_count": 50,
   "id": "a82dcf03-eaa3-4e20-91f4-659699cb5e3d",
   "metadata": {},
   "outputs": [
    {
     "ename": "NameError",
     "evalue": "name 'sample' is not defined",
     "output_type": "error",
     "traceback": [
      "\u001b[0;31m---------------------------------------------------------------------------\u001b[0m",
      "\u001b[0;31mNameError\u001b[0m                                 Traceback (most recent call last)",
      "Cell \u001b[0;32mIn[50], line 1\u001b[0m\n\u001b[0;32m----> 1\u001b[0m \u001b[38;5;241m100\u001b[39m\u001b[38;5;241m+\u001b[39m \u001b[43msample\u001b[49m\n",
      "\u001b[0;31mNameError\u001b[0m: name 'sample' is not defined"
     ]
    }
   ],
   "source": [
    "\n"
   ]
  },
  {
   "cell_type": "code",
   "execution_count": null,
   "id": "4eb94f12-0939-488f-a313-32ebdb4c65d5",
   "metadata": {},
   "outputs": [],
   "source": []
  },
  {
   "cell_type": "code",
   "execution_count": null,
   "id": "49be34e3-2ac1-43cb-9f15-6ed064927504",
   "metadata": {},
   "outputs": [],
   "source": []
  }
 ],
 "metadata": {
  "kernelspec": {
   "display_name": "Python 3 (ipykernel)",
   "language": "python",
   "name": "python3"
  },
  "language_info": {
   "codemirror_mode": {
    "name": "ipython",
    "version": 3
   },
   "file_extension": ".py",
   "mimetype": "text/x-python",
   "name": "python",
   "nbconvert_exporter": "python",
   "pygments_lexer": "ipython3",
   "version": "3.10.8"
  }
 },
 "nbformat": 4,
 "nbformat_minor": 5
}
